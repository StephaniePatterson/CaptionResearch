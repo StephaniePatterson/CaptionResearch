{
 "cells": [
  {
   "cell_type": "code",
   "execution_count": 100,
   "metadata": {},
   "outputs": [],
   "source": [
    "import parselmouth\n",
    "import time\n",
    "import numpy as np\n",
    "import speech_recognition as sr\n",
    "import subprocess\n",
    "from pythonosc.udp_client import SimpleUDPClient\n",
    "from pythonosc import osc_bundle_builder\n",
    "from pythonosc import osc_message_builder\n",
    "import sounddevice as sd\n",
    "\n",
    "from flask import Flask, request, jsonify\n",
    "import json\n",
    "import threading\n",
    "\n"
   ]
  },
  {
   "cell_type": "code",
   "execution_count": 101,
   "metadata": {},
   "outputs": [
    {
     "name": "stdout",
     "output_type": "stream",
     "text": [
      "SENT BUNDLE\n"
     ]
    }
   ],
   "source": [
    "from pythonosc import udp_client\n",
    "\n",
    "\n",
    "client = udp_client.SimpleUDPClient(\"127.0.0.1\", 6449)\n",
    "\n",
    "def modulation():\n",
    "    try:\n",
    "        bundle = osc_bundle_builder.OscBundleBuilder(osc_bundle_builder.IMMEDIATELY)\n",
    "\n",
    "        msg = osc_message_builder.OscMessageBuilder(address=\"/modulation/bundle\")\n",
    "        # msg.add_arg(1.2)\n",
    "        # msg.add_arg(0.7)\n",
    "        # msg.add_arg(3)\n",
    "        # msg.add_arg(2)\n",
    "        # msg.add_arg(\"Sine\")\n",
    "        # bundle.add_content(msg.build())\n",
    "\n",
    "        client.send(bundle.build())\n",
    "\n",
    "        print(\"SENT BUNDLE\")\n",
    "\n",
    "        # Example: Print the received parameters to the console\n",
    "    except Exception as e:\n",
    "        print(f\"Error processing modulation parameters: {e}\")\n",
    "        return jsonify({'error': str(e)}), 500\n",
    "    \n",
    "modulation()"
   ]
  }
 ],
 "metadata": {
  "kernelspec": {
   "display_name": "Python 3",
   "language": "python",
   "name": "python3"
  },
  "language_info": {
   "codemirror_mode": {
    "name": "ipython",
    "version": 3
   },
   "file_extension": ".py",
   "mimetype": "text/x-python",
   "name": "python",
   "nbconvert_exporter": "python",
   "pygments_lexer": "ipython3",
   "version": "3.12.9"
  }
 },
 "nbformat": 4,
 "nbformat_minor": 2
}
